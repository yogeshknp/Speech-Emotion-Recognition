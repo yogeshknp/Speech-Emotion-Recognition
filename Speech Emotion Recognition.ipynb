{
 "cells": [
  {
   "cell_type": "code",
   "execution_count": 2,
   "id": "sexual-stable",
   "metadata": {},
   "outputs": [],
   "source": [
    "import librosa # used for sound and musical analysis\n",
    "import soundfile # handling audio files\n",
    "import os, glob # access files from folders, glob is used for acessing particular parsed files using filenames\n",
    "import numpy as np\n",
    "from sklearn.model_selection import train_test_split\n",
    "from sklearn.metrics import accuracy_score"
   ]
  },
  {
   "cell_type": "markdown",
   "id": "41056d4e",
   "metadata": {},
   "source": [
    "## Feature Extraction\n",
    "We are extracting three types of features for our audio dataset"
   ]
  },
  {
   "cell_type": "code",
   "execution_count": 3,
   "id": "sacred-pickup",
   "metadata": {},
   "outputs": [],
   "source": [
    "def extract_feature(file_name):\n",
    "    with soundfile.SoundFile(file_name) as sound_file:\n",
    "        X = sound_file.read(dtype=\"float32\")\n",
    "        sample_rate=sound_file.samplerate    \n",
    "        result=np.array([])\n",
    "        \n",
    "        mfccs=np.mean(librosa.feature.mfcc(y=X, sr=sample_rate, n_mfcc=40).T, axis=0)\n",
    "        result=np.hstack((result, mfccs))\n",
    "        \n",
    "        stft=np.abs(librosa.stft(X))\n",
    "        chroma=np.mean(librosa.feature.chroma_stft(S=stft, sr=sample_rate).T,axis=0)\n",
    "        result=np.hstack((result, chroma))\n",
    "        \n",
    "        mel=np.mean(librosa.feature.melspectrogram(X, sr=sample_rate).T,axis=0)\n",
    "        result=np.hstack((result, mel))\n",
    "        \n",
    "        tonnetz = np.mean(librosa.feature.tonnetz(y=librosa.effects.harmonic(X), sr=sample_rate).T,axis=0)\n",
    "        result = np.hstack((result, tonnetz))\n",
    "            \n",
    "    return result"
   ]
  },
  {
   "cell_type": "code",
   "execution_count": 7,
   "id": "thorough-borough",
   "metadata": {},
   "outputs": [],
   "source": [
    "emotions={\n",
    "  '01':'neutral',\n",
    "  '02':'calm',\n",
    "  '03':'happy',\n",
    "  '04':'sad',\n",
    "  '05':'angry',\n",
    "  '06':'fearful',\n",
    "  '07':'disgust',\n",
    "  '08':'surprised'\n",
    "}\n",
    "\n",
    "emotions_to_be_observed=['happy','neutral','angry']\n",
    "classes = ['happy','neutral','angry']"
   ]
  },
  {
   "cell_type": "code",
   "execution_count": 8,
   "id": "fabulous-america",
   "metadata": {},
   "outputs": [],
   "source": [
    "def load_data(test_size=0.2):\n",
    "    i=0\n",
    "    x,y=[],[]\n",
    "    for file in glob.glob(\"/Users/y0y03gi/Projects/Speech-Emotion-Recognition/Emotion data/**/*.wav\"):\n",
    "        file_name=os.path.basename(file)\n",
    "        emotion=emotions[file_name.split(\"-\")[2]]\n",
    "        if emotion not in emotions_to_be_observed:\n",
    "            continue\n",
    "        feature=extract_feature(file)\n",
    "        x.append(feature)\n",
    "        y.append(emotion)\n",
    "        #print(i,emotion)\n",
    "        i=i+1\n",
    "    return train_test_split(np.array(x), y, test_size=test_size, random_state=9)"
   ]
  },
  {
   "cell_type": "code",
   "execution_count": 9,
   "id": "amber-avenue",
   "metadata": {},
   "outputs": [],
   "source": [
    "X_train,X_test,Y_train,Y_test = load_data(test_size=0.20)"
   ]
  },
  {
   "cell_type": "code",
   "execution_count": 10,
   "id": "ffe0c7e8",
   "metadata": {},
   "outputs": [
    {
     "name": "stdout",
     "output_type": "stream",
     "text": [
      "(384, 96)\n"
     ]
    }
   ],
   "source": [
    "print((X_train.shape[0], X_test.shape[0]))"
   ]
  },
  {
   "cell_type": "code",
   "execution_count": 11,
   "id": "norman-motel",
   "metadata": {},
   "outputs": [
    {
     "name": "stdout",
     "output_type": "stream",
     "text": [
      "Features extracted: 186\n"
     ]
    }
   ],
   "source": [
    "print(f'Features extracted: {X_train.shape[1]}')"
   ]
  },
  {
   "cell_type": "code",
   "execution_count": 13,
   "id": "9d495714-0c20-47af-aff2-0ce4fd85effd",
   "metadata": {},
   "outputs": [
    {
     "name": "stdout",
     "output_type": "stream",
     "text": [
      "(384, 3) (96, 3)\n"
     ]
    }
   ],
   "source": [
    "d = {'happy':0,'neutral':1,'angry':2}\n",
    "y_test = [d[x] for x in Y_test]\n",
    "y_train = [d[x] for x in Y_train]\n",
    "from keras.utils.np_utils import to_categorical\n",
    "y_train = to_categorical(y_train)\n",
    "y_test  = to_categorical(y_test)\n",
    "print(y_train.shape,y_test.shape)"
   ]
  },
  {
   "cell_type": "code",
   "execution_count": 14,
   "id": "b13e154e-8702-4319-a453-e5bcb2318eb9",
   "metadata": {},
   "outputs": [],
   "source": [
    "from sklearn.preprocessing import StandardScaler\n",
    "ss = StandardScaler()\n",
    "x_train = ss.fit_transform(X_train)\n",
    "x_test = ss.transform(X_test)"
   ]
  },
  {
   "cell_type": "code",
   "execution_count": 15,
   "id": "a991d737-f5e9-4e0e-8cb5-9f6d89955802",
   "metadata": {},
   "outputs": [
    {
     "name": "stderr",
     "output_type": "stream",
     "text": [
      "2021-09-01 17:36:23.834882: I tensorflow/core/platform/cpu_feature_guard.cc:142] This TensorFlow binary is optimized with oneAPI Deep Neural Network Library (oneDNN) to use the following CPU instructions in performance-critical operations:  AVX2 FMA\n",
      "To enable them in other operations, rebuild TensorFlow with the appropriate compiler flags.\n"
     ]
    }
   ],
   "source": [
    "from keras.models import Sequential\n",
    "from keras.layers import Dense, Dropout, Activation, Flatten\n",
    "from keras.callbacks import EarlyStopping\n",
    "# Build a simple dense model with early stopping and softmax for categorical classification, remember we have 30 classes\n",
    "model = Sequential()\n",
    "model.add(Dense(186, input_shape=(186,), activation = 'relu'))\n",
    "model.add(Dropout(0.25))\n",
    "model.add(Dense(128, activation = 'relu'))\n",
    "model.add(Dropout(0.5))\n",
    "model.add(Dense(3, activation = 'softmax'))\n",
    "model.compile(loss='categorical_crossentropy', metrics=['accuracy'], optimizer='adam')"
   ]
  },
  {
   "cell_type": "code",
   "execution_count": 16,
   "id": "1e3fdaa0-f4b6-4202-b0c6-bcb0ed5ce72c",
   "metadata": {},
   "outputs": [
    {
     "name": "stderr",
     "output_type": "stream",
     "text": [
      "2021-09-01 17:36:26.110717: I tensorflow/compiler/mlir/mlir_graph_optimization_pass.cc:185] None of the MLIR Optimization Passes are enabled (registered 2)\n"
     ]
    },
    {
     "name": "stdout",
     "output_type": "stream",
     "text": [
      "Epoch 1/150\n",
      "6/6 [==============================] - 1s 31ms/step - loss: 1.1567 - accuracy: 0.4323 - val_loss: 0.8899 - val_accuracy: 0.5208\n",
      "Epoch 2/150\n",
      "6/6 [==============================] - 0s 5ms/step - loss: 0.9215 - accuracy: 0.5651 - val_loss: 0.8395 - val_accuracy: 0.5833\n",
      "Epoch 3/150\n",
      "6/6 [==============================] - 0s 4ms/step - loss: 0.8589 - accuracy: 0.5677 - val_loss: 0.7930 - val_accuracy: 0.6354\n",
      "Epoch 4/150\n",
      "6/6 [==============================] - 0s 4ms/step - loss: 0.7954 - accuracy: 0.6354 - val_loss: 0.7386 - val_accuracy: 0.6667\n",
      "Epoch 5/150\n",
      "6/6 [==============================] - 0s 4ms/step - loss: 0.7284 - accuracy: 0.6354 - val_loss: 0.6930 - val_accuracy: 0.6875\n",
      "Epoch 6/150\n",
      "6/6 [==============================] - 0s 4ms/step - loss: 0.7048 - accuracy: 0.7135 - val_loss: 0.6681 - val_accuracy: 0.6667\n",
      "Epoch 7/150\n",
      "6/6 [==============================] - 0s 4ms/step - loss: 0.6471 - accuracy: 0.6979 - val_loss: 0.6583 - val_accuracy: 0.6667\n",
      "Epoch 8/150\n",
      "6/6 [==============================] - 0s 4ms/step - loss: 0.6449 - accuracy: 0.7396 - val_loss: 0.6386 - val_accuracy: 0.6771\n",
      "Epoch 9/150\n",
      "6/6 [==============================] - 0s 4ms/step - loss: 0.6114 - accuracy: 0.7370 - val_loss: 0.6343 - val_accuracy: 0.6771\n",
      "Epoch 10/150\n",
      "6/6 [==============================] - 0s 4ms/step - loss: 0.5561 - accuracy: 0.7578 - val_loss: 0.6177 - val_accuracy: 0.7083\n",
      "Epoch 11/150\n",
      "6/6 [==============================] - 0s 4ms/step - loss: 0.5361 - accuracy: 0.7500 - val_loss: 0.6110 - val_accuracy: 0.6979\n",
      "Epoch 12/150\n",
      "6/6 [==============================] - 0s 4ms/step - loss: 0.5115 - accuracy: 0.7995 - val_loss: 0.6128 - val_accuracy: 0.6771\n",
      "Epoch 13/150\n",
      "6/6 [==============================] - 0s 4ms/step - loss: 0.4814 - accuracy: 0.8047 - val_loss: 0.5937 - val_accuracy: 0.7188\n",
      "Epoch 14/150\n",
      "6/6 [==============================] - 0s 4ms/step - loss: 0.4715 - accuracy: 0.8151 - val_loss: 0.5862 - val_accuracy: 0.7292\n",
      "Epoch 15/150\n",
      "6/6 [==============================] - 0s 4ms/step - loss: 0.4290 - accuracy: 0.8229 - val_loss: 0.6038 - val_accuracy: 0.7188\n",
      "Epoch 16/150\n",
      "6/6 [==============================] - 0s 4ms/step - loss: 0.4628 - accuracy: 0.7917 - val_loss: 0.6096 - val_accuracy: 0.7188\n",
      "Epoch 17/150\n",
      "6/6 [==============================] - 0s 4ms/step - loss: 0.3934 - accuracy: 0.8490 - val_loss: 0.5913 - val_accuracy: 0.6979\n",
      "Epoch 18/150\n",
      "6/6 [==============================] - 0s 4ms/step - loss: 0.4304 - accuracy: 0.8255 - val_loss: 0.5781 - val_accuracy: 0.7292\n",
      "Epoch 19/150\n",
      "6/6 [==============================] - 0s 4ms/step - loss: 0.3673 - accuracy: 0.8568 - val_loss: 0.5894 - val_accuracy: 0.7500\n",
      "Epoch 20/150\n",
      "6/6 [==============================] - 0s 4ms/step - loss: 0.3651 - accuracy: 0.8906 - val_loss: 0.5907 - val_accuracy: 0.7396\n",
      "Epoch 21/150\n",
      "6/6 [==============================] - 0s 4ms/step - loss: 0.3020 - accuracy: 0.9141 - val_loss: 0.5755 - val_accuracy: 0.7396\n",
      "Epoch 22/150\n",
      "6/6 [==============================] - 0s 4ms/step - loss: 0.2928 - accuracy: 0.8932 - val_loss: 0.5793 - val_accuracy: 0.7500\n",
      "Epoch 23/150\n",
      "6/6 [==============================] - 0s 4ms/step - loss: 0.2953 - accuracy: 0.8906 - val_loss: 0.5731 - val_accuracy: 0.7604\n",
      "Epoch 24/150\n",
      "6/6 [==============================] - 0s 4ms/step - loss: 0.2813 - accuracy: 0.9036 - val_loss: 0.5898 - val_accuracy: 0.7604\n",
      "Epoch 25/150\n",
      "6/6 [==============================] - 0s 4ms/step - loss: 0.2918 - accuracy: 0.9010 - val_loss: 0.5737 - val_accuracy: 0.7708\n",
      "Epoch 26/150\n",
      "6/6 [==============================] - 0s 4ms/step - loss: 0.2470 - accuracy: 0.9375 - val_loss: 0.5742 - val_accuracy: 0.7708\n",
      "Epoch 27/150\n",
      "6/6 [==============================] - 0s 4ms/step - loss: 0.2496 - accuracy: 0.9089 - val_loss: 0.5786 - val_accuracy: 0.7708\n",
      "Epoch 28/150\n",
      "6/6 [==============================] - 0s 4ms/step - loss: 0.2063 - accuracy: 0.9349 - val_loss: 0.5643 - val_accuracy: 0.7604\n",
      "Epoch 29/150\n",
      "6/6 [==============================] - 0s 4ms/step - loss: 0.1919 - accuracy: 0.9453 - val_loss: 0.5544 - val_accuracy: 0.7917\n",
      "Epoch 30/150\n",
      "6/6 [==============================] - 0s 4ms/step - loss: 0.1812 - accuracy: 0.9505 - val_loss: 0.5457 - val_accuracy: 0.8125\n",
      "Epoch 31/150\n",
      "6/6 [==============================] - 0s 4ms/step - loss: 0.1921 - accuracy: 0.9349 - val_loss: 0.5486 - val_accuracy: 0.8125\n",
      "Epoch 32/150\n",
      "6/6 [==============================] - 0s 4ms/step - loss: 0.1831 - accuracy: 0.9349 - val_loss: 0.5588 - val_accuracy: 0.7917\n",
      "Epoch 33/150\n",
      "6/6 [==============================] - 0s 4ms/step - loss: 0.1830 - accuracy: 0.9323 - val_loss: 0.5332 - val_accuracy: 0.8125\n",
      "Epoch 34/150\n",
      "6/6 [==============================] - 0s 4ms/step - loss: 0.1311 - accuracy: 0.9766 - val_loss: 0.5249 - val_accuracy: 0.8125\n",
      "Epoch 35/150\n",
      "6/6 [==============================] - 0s 4ms/step - loss: 0.1280 - accuracy: 0.9583 - val_loss: 0.5437 - val_accuracy: 0.7917\n",
      "Epoch 36/150\n",
      "6/6 [==============================] - 0s 4ms/step - loss: 0.1638 - accuracy: 0.9427 - val_loss: 0.5542 - val_accuracy: 0.8125\n",
      "Epoch 37/150\n",
      "6/6 [==============================] - 0s 4ms/step - loss: 0.1198 - accuracy: 0.9740 - val_loss: 0.5836 - val_accuracy: 0.8021\n",
      "Epoch 38/150\n",
      "6/6 [==============================] - 0s 4ms/step - loss: 0.1355 - accuracy: 0.9609 - val_loss: 0.6046 - val_accuracy: 0.7812\n",
      "Epoch 39/150\n",
      "6/6 [==============================] - 0s 4ms/step - loss: 0.1225 - accuracy: 0.9661 - val_loss: 0.5851 - val_accuracy: 0.7917\n",
      "Epoch 40/150\n",
      "6/6 [==============================] - 0s 4ms/step - loss: 0.1162 - accuracy: 0.9688 - val_loss: 0.5629 - val_accuracy: 0.8125\n",
      "Epoch 41/150\n",
      "6/6 [==============================] - 0s 4ms/step - loss: 0.1171 - accuracy: 0.9792 - val_loss: 0.5393 - val_accuracy: 0.8125\n",
      "Epoch 42/150\n",
      "6/6 [==============================] - 0s 4ms/step - loss: 0.1205 - accuracy: 0.9583 - val_loss: 0.5407 - val_accuracy: 0.8125\n",
      "Epoch 43/150\n",
      "6/6 [==============================] - 0s 4ms/step - loss: 0.0862 - accuracy: 0.9896 - val_loss: 0.5646 - val_accuracy: 0.8333\n",
      "Epoch 44/150\n",
      "6/6 [==============================] - 0s 4ms/step - loss: 0.0827 - accuracy: 0.9792 - val_loss: 0.5765 - val_accuracy: 0.8125\n",
      "Epoch 45/150\n",
      "6/6 [==============================] - 0s 4ms/step - loss: 0.0775 - accuracy: 0.9792 - val_loss: 0.5750 - val_accuracy: 0.8125\n",
      "Epoch 46/150\n",
      "6/6 [==============================] - 0s 4ms/step - loss: 0.0760 - accuracy: 0.9844 - val_loss: 0.5692 - val_accuracy: 0.8125\n",
      "Epoch 47/150\n",
      "6/6 [==============================] - 0s 4ms/step - loss: 0.0622 - accuracy: 0.9948 - val_loss: 0.6018 - val_accuracy: 0.8021\n",
      "Epoch 48/150\n",
      "6/6 [==============================] - 0s 5ms/step - loss: 0.0532 - accuracy: 0.9948 - val_loss: 0.6320 - val_accuracy: 0.7917\n",
      "Epoch 49/150\n",
      "6/6 [==============================] - 0s 5ms/step - loss: 0.0851 - accuracy: 0.9740 - val_loss: 0.6387 - val_accuracy: 0.8021\n",
      "Epoch 50/150\n",
      "6/6 [==============================] - 0s 5ms/step - loss: 0.0658 - accuracy: 0.9870 - val_loss: 0.6236 - val_accuracy: 0.8125\n",
      "Epoch 51/150\n",
      "6/6 [==============================] - 0s 5ms/step - loss: 0.0572 - accuracy: 0.9896 - val_loss: 0.6356 - val_accuracy: 0.8125\n",
      "Epoch 52/150\n",
      "6/6 [==============================] - 0s 5ms/step - loss: 0.0611 - accuracy: 0.9818 - val_loss: 0.6558 - val_accuracy: 0.8125\n",
      "Epoch 53/150\n",
      "6/6 [==============================] - 0s 5ms/step - loss: 0.0468 - accuracy: 0.9948 - val_loss: 0.6282 - val_accuracy: 0.8125\n",
      "Epoch 54/150\n",
      "6/6 [==============================] - 0s 5ms/step - loss: 0.0439 - accuracy: 0.9896 - val_loss: 0.6229 - val_accuracy: 0.8125\n",
      "Epoch 55/150\n",
      "6/6 [==============================] - 0s 5ms/step - loss: 0.0671 - accuracy: 0.9896 - val_loss: 0.6588 - val_accuracy: 0.8021\n",
      "Epoch 56/150\n",
      "6/6 [==============================] - 0s 5ms/step - loss: 0.0540 - accuracy: 0.9896 - val_loss: 0.6569 - val_accuracy: 0.8125\n",
      "Epoch 57/150\n",
      "6/6 [==============================] - 0s 5ms/step - loss: 0.0438 - accuracy: 0.9870 - val_loss: 0.6476 - val_accuracy: 0.8021\n",
      "Epoch 58/150\n",
      "6/6 [==============================] - 0s 5ms/step - loss: 0.0383 - accuracy: 0.9948 - val_loss: 0.6855 - val_accuracy: 0.8021\n",
      "Epoch 59/150\n",
      "6/6 [==============================] - 0s 5ms/step - loss: 0.0410 - accuracy: 0.9870 - val_loss: 0.7096 - val_accuracy: 0.8021\n",
      "Epoch 60/150\n",
      "6/6 [==============================] - 0s 5ms/step - loss: 0.0360 - accuracy: 0.9948 - val_loss: 0.7400 - val_accuracy: 0.7917\n",
      "Epoch 61/150\n",
      "6/6 [==============================] - 0s 5ms/step - loss: 0.0430 - accuracy: 0.9870 - val_loss: 0.7060 - val_accuracy: 0.7917\n",
      "Epoch 62/150\n",
      "6/6 [==============================] - 0s 5ms/step - loss: 0.0412 - accuracy: 0.9948 - val_loss: 0.6719 - val_accuracy: 0.8021\n",
      "Epoch 63/150\n",
      "6/6 [==============================] - 0s 5ms/step - loss: 0.0277 - accuracy: 1.0000 - val_loss: 0.6604 - val_accuracy: 0.8333\n",
      "Epoch 64/150\n",
      "6/6 [==============================] - 0s 5ms/step - loss: 0.0358 - accuracy: 0.9896 - val_loss: 0.7182 - val_accuracy: 0.8021\n",
      "Epoch 65/150\n",
      "6/6 [==============================] - 0s 5ms/step - loss: 0.0304 - accuracy: 0.9948 - val_loss: 0.7495 - val_accuracy: 0.8021\n",
      "Epoch 66/150\n",
      "6/6 [==============================] - 0s 5ms/step - loss: 0.0328 - accuracy: 0.9922 - val_loss: 0.7168 - val_accuracy: 0.8021\n",
      "Epoch 67/150\n",
      "6/6 [==============================] - 0s 5ms/step - loss: 0.0334 - accuracy: 0.9896 - val_loss: 0.7090 - val_accuracy: 0.8021\n",
      "Epoch 68/150\n",
      "6/6 [==============================] - 0s 5ms/step - loss: 0.0366 - accuracy: 0.9922 - val_loss: 0.7369 - val_accuracy: 0.8125\n",
      "Epoch 69/150\n",
      "6/6 [==============================] - 0s 5ms/step - loss: 0.0258 - accuracy: 0.9974 - val_loss: 0.7768 - val_accuracy: 0.8333\n",
      "Epoch 70/150\n",
      "6/6 [==============================] - 0s 5ms/step - loss: 0.0452 - accuracy: 0.9870 - val_loss: 0.8067 - val_accuracy: 0.7812\n",
      "Epoch 71/150\n",
      "6/6 [==============================] - 0s 5ms/step - loss: 0.0214 - accuracy: 0.9974 - val_loss: 0.7801 - val_accuracy: 0.7812\n",
      "Epoch 72/150\n",
      "6/6 [==============================] - 0s 5ms/step - loss: 0.0248 - accuracy: 0.9974 - val_loss: 0.7494 - val_accuracy: 0.7812\n",
      "Epoch 73/150\n",
      "6/6 [==============================] - 0s 5ms/step - loss: 0.0238 - accuracy: 0.9948 - val_loss: 0.7401 - val_accuracy: 0.8125\n",
      "Epoch 74/150\n",
      "6/6 [==============================] - 0s 5ms/step - loss: 0.0222 - accuracy: 0.9974 - val_loss: 0.7751 - val_accuracy: 0.8125\n",
      "Epoch 75/150\n",
      "6/6 [==============================] - 0s 5ms/step - loss: 0.0163 - accuracy: 1.0000 - val_loss: 0.7982 - val_accuracy: 0.8125\n",
      "Epoch 76/150\n",
      "6/6 [==============================] - 0s 5ms/step - loss: 0.0194 - accuracy: 0.9974 - val_loss: 0.7990 - val_accuracy: 0.8229\n",
      "Epoch 77/150\n",
      "6/6 [==============================] - 0s 5ms/step - loss: 0.0261 - accuracy: 0.9922 - val_loss: 0.7820 - val_accuracy: 0.8333\n",
      "Epoch 78/150\n",
      "6/6 [==============================] - 0s 5ms/step - loss: 0.0162 - accuracy: 1.0000 - val_loss: 0.7981 - val_accuracy: 0.8125\n",
      "Epoch 79/150\n",
      "6/6 [==============================] - 0s 5ms/step - loss: 0.0254 - accuracy: 0.9948 - val_loss: 0.8206 - val_accuracy: 0.8021\n",
      "Epoch 80/150\n",
      "6/6 [==============================] - 0s 5ms/step - loss: 0.0314 - accuracy: 0.9922 - val_loss: 0.8640 - val_accuracy: 0.7917\n",
      "Epoch 81/150\n",
      "6/6 [==============================] - 0s 5ms/step - loss: 0.0148 - accuracy: 1.0000 - val_loss: 0.8841 - val_accuracy: 0.7917\n",
      "Epoch 82/150\n",
      "6/6 [==============================] - 0s 5ms/step - loss: 0.0246 - accuracy: 0.9922 - val_loss: 0.8639 - val_accuracy: 0.7917\n",
      "Epoch 83/150\n",
      "6/6 [==============================] - 0s 5ms/step - loss: 0.0187 - accuracy: 1.0000 - val_loss: 0.8470 - val_accuracy: 0.8021\n",
      "Epoch 84/150\n",
      "6/6 [==============================] - 0s 5ms/step - loss: 0.0194 - accuracy: 0.9948 - val_loss: 0.8171 - val_accuracy: 0.7917\n",
      "Epoch 85/150\n",
      "6/6 [==============================] - 0s 5ms/step - loss: 0.0236 - accuracy: 0.9896 - val_loss: 0.8152 - val_accuracy: 0.8021\n",
      "Epoch 86/150\n",
      "6/6 [==============================] - 0s 5ms/step - loss: 0.0229 - accuracy: 0.9974 - val_loss: 0.8079 - val_accuracy: 0.8021\n",
      "Epoch 87/150\n",
      "6/6 [==============================] - 0s 5ms/step - loss: 0.0204 - accuracy: 0.9974 - val_loss: 0.8454 - val_accuracy: 0.8021\n",
      "Epoch 88/150\n",
      "6/6 [==============================] - 0s 5ms/step - loss: 0.0191 - accuracy: 0.9948 - val_loss: 0.8360 - val_accuracy: 0.8021\n",
      "Epoch 89/150\n",
      "6/6 [==============================] - 0s 5ms/step - loss: 0.0140 - accuracy: 1.0000 - val_loss: 0.8335 - val_accuracy: 0.8229\n",
      "Epoch 90/150\n",
      "6/6 [==============================] - 0s 5ms/step - loss: 0.0156 - accuracy: 0.9922 - val_loss: 0.8307 - val_accuracy: 0.8229\n",
      "Epoch 91/150\n",
      "6/6 [==============================] - 0s 5ms/step - loss: 0.0197 - accuracy: 0.9948 - val_loss: 0.8438 - val_accuracy: 0.8229\n",
      "Epoch 92/150\n",
      "6/6 [==============================] - 0s 5ms/step - loss: 0.0108 - accuracy: 0.9974 - val_loss: 0.8338 - val_accuracy: 0.8229\n",
      "Epoch 93/150\n",
      "6/6 [==============================] - 0s 5ms/step - loss: 0.0183 - accuracy: 0.9948 - val_loss: 0.8158 - val_accuracy: 0.8438\n",
      "Epoch 94/150\n",
      "6/6 [==============================] - 0s 5ms/step - loss: 0.0121 - accuracy: 1.0000 - val_loss: 0.8312 - val_accuracy: 0.8333\n",
      "Epoch 95/150\n",
      "6/6 [==============================] - 0s 5ms/step - loss: 0.0097 - accuracy: 1.0000 - val_loss: 0.8366 - val_accuracy: 0.8333\n",
      "Epoch 96/150\n",
      "6/6 [==============================] - 0s 5ms/step - loss: 0.0116 - accuracy: 0.9974 - val_loss: 0.8413 - val_accuracy: 0.8125\n",
      "Epoch 97/150\n",
      "6/6 [==============================] - 0s 5ms/step - loss: 0.0106 - accuracy: 1.0000 - val_loss: 0.8538 - val_accuracy: 0.8021\n",
      "Epoch 98/150\n",
      "6/6 [==============================] - 0s 5ms/step - loss: 0.0155 - accuracy: 1.0000 - val_loss: 0.8921 - val_accuracy: 0.7917\n",
      "Epoch 99/150\n",
      "6/6 [==============================] - 0s 5ms/step - loss: 0.0124 - accuracy: 0.9974 - val_loss: 0.9564 - val_accuracy: 0.7917\n",
      "Epoch 100/150\n",
      "6/6 [==============================] - 0s 4ms/step - loss: 0.0122 - accuracy: 1.0000 - val_loss: 0.9721 - val_accuracy: 0.7917\n",
      "Epoch 101/150\n",
      "6/6 [==============================] - 0s 4ms/step - loss: 0.0129 - accuracy: 0.9974 - val_loss: 0.9135 - val_accuracy: 0.7917\n",
      "Epoch 102/150\n",
      "6/6 [==============================] - 0s 4ms/step - loss: 0.0182 - accuracy: 0.9948 - val_loss: 0.8992 - val_accuracy: 0.8125\n",
      "Epoch 103/150\n",
      "6/6 [==============================] - 0s 4ms/step - loss: 0.0137 - accuracy: 0.9974 - val_loss: 0.9053 - val_accuracy: 0.8125\n",
      "Epoch 104/150\n",
      "6/6 [==============================] - 0s 4ms/step - loss: 0.0129 - accuracy: 0.9974 - val_loss: 0.9004 - val_accuracy: 0.8021\n",
      "Epoch 105/150\n",
      "6/6 [==============================] - 0s 4ms/step - loss: 0.0125 - accuracy: 0.9974 - val_loss: 0.8702 - val_accuracy: 0.8021\n",
      "Epoch 106/150\n",
      "6/6 [==============================] - 0s 4ms/step - loss: 0.0065 - accuracy: 1.0000 - val_loss: 0.8637 - val_accuracy: 0.8125\n",
      "Epoch 107/150\n",
      "6/6 [==============================] - 0s 4ms/step - loss: 0.0076 - accuracy: 1.0000 - val_loss: 0.8604 - val_accuracy: 0.8438\n",
      "Epoch 108/150\n",
      "6/6 [==============================] - 0s 4ms/step - loss: 0.0109 - accuracy: 0.9948 - val_loss: 0.8769 - val_accuracy: 0.8125\n",
      "Epoch 109/150\n",
      "6/6 [==============================] - 0s 4ms/step - loss: 0.0150 - accuracy: 0.9922 - val_loss: 0.9059 - val_accuracy: 0.8021\n",
      "Epoch 110/150\n",
      "6/6 [==============================] - 0s 4ms/step - loss: 0.0176 - accuracy: 0.9974 - val_loss: 0.9250 - val_accuracy: 0.8021\n",
      "Epoch 111/150\n",
      "6/6 [==============================] - 0s 4ms/step - loss: 0.0066 - accuracy: 1.0000 - val_loss: 0.9090 - val_accuracy: 0.8229\n",
      "Epoch 112/150\n",
      "6/6 [==============================] - 0s 4ms/step - loss: 0.0212 - accuracy: 0.9974 - val_loss: 0.8532 - val_accuracy: 0.8646\n",
      "Epoch 113/150\n",
      "6/6 [==============================] - 0s 4ms/step - loss: 0.0125 - accuracy: 1.0000 - val_loss: 0.8412 - val_accuracy: 0.8333\n",
      "Epoch 114/150\n",
      "6/6 [==============================] - 0s 4ms/step - loss: 0.0106 - accuracy: 1.0000 - val_loss: 0.8468 - val_accuracy: 0.8229\n",
      "Epoch 115/150\n",
      "6/6 [==============================] - 0s 4ms/step - loss: 0.0103 - accuracy: 1.0000 - val_loss: 0.8442 - val_accuracy: 0.8438\n",
      "Epoch 116/150\n",
      "6/6 [==============================] - 0s 4ms/step - loss: 0.0215 - accuracy: 0.9948 - val_loss: 0.8567 - val_accuracy: 0.8542\n",
      "Epoch 117/150\n",
      "6/6 [==============================] - 0s 4ms/step - loss: 0.0082 - accuracy: 1.0000 - val_loss: 0.8612 - val_accuracy: 0.8646\n",
      "Epoch 118/150\n",
      "6/6 [==============================] - 0s 4ms/step - loss: 0.0110 - accuracy: 0.9974 - val_loss: 0.8524 - val_accuracy: 0.8542\n",
      "Epoch 119/150\n",
      "6/6 [==============================] - 0s 4ms/step - loss: 0.0090 - accuracy: 1.0000 - val_loss: 0.8388 - val_accuracy: 0.8542\n",
      "Epoch 120/150\n",
      "6/6 [==============================] - 0s 4ms/step - loss: 0.0096 - accuracy: 1.0000 - val_loss: 0.8264 - val_accuracy: 0.8438\n",
      "Epoch 121/150\n",
      "6/6 [==============================] - 0s 4ms/step - loss: 0.0126 - accuracy: 0.9948 - val_loss: 0.8203 - val_accuracy: 0.8333\n",
      "Epoch 122/150\n",
      "6/6 [==============================] - 0s 4ms/step - loss: 0.0114 - accuracy: 0.9974 - val_loss: 0.8252 - val_accuracy: 0.8021\n",
      "Epoch 123/150\n",
      "6/6 [==============================] - 0s 4ms/step - loss: 0.0092 - accuracy: 0.9974 - val_loss: 0.8187 - val_accuracy: 0.8229\n",
      "Epoch 124/150\n",
      "6/6 [==============================] - 0s 4ms/step - loss: 0.0096 - accuracy: 0.9974 - val_loss: 0.8183 - val_accuracy: 0.8229\n",
      "Epoch 125/150\n",
      "6/6 [==============================] - 0s 4ms/step - loss: 0.0177 - accuracy: 0.9974 - val_loss: 0.8201 - val_accuracy: 0.8229\n",
      "Epoch 126/150\n",
      "6/6 [==============================] - 0s 4ms/step - loss: 0.0057 - accuracy: 1.0000 - val_loss: 0.7950 - val_accuracy: 0.8542\n",
      "Epoch 127/150\n",
      "6/6 [==============================] - 0s 4ms/step - loss: 0.0075 - accuracy: 1.0000 - val_loss: 0.8379 - val_accuracy: 0.8542\n",
      "Epoch 128/150\n",
      "6/6 [==============================] - 0s 4ms/step - loss: 0.0095 - accuracy: 1.0000 - val_loss: 0.7856 - val_accuracy: 0.8333\n",
      "Epoch 129/150\n",
      "6/6 [==============================] - 0s 4ms/step - loss: 0.0071 - accuracy: 1.0000 - val_loss: 0.7773 - val_accuracy: 0.8229\n",
      "Epoch 130/150\n",
      "6/6 [==============================] - 0s 4ms/step - loss: 0.0092 - accuracy: 0.9974 - val_loss: 0.7750 - val_accuracy: 0.8438\n",
      "Epoch 131/150\n",
      "6/6 [==============================] - 0s 4ms/step - loss: 0.0071 - accuracy: 1.0000 - val_loss: 0.8073 - val_accuracy: 0.8542\n",
      "Epoch 132/150\n",
      "6/6 [==============================] - 0s 4ms/step - loss: 0.0080 - accuracy: 1.0000 - val_loss: 0.8351 - val_accuracy: 0.8542\n",
      "Epoch 133/150\n",
      "6/6 [==============================] - 0s 4ms/step - loss: 0.0070 - accuracy: 1.0000 - val_loss: 0.8525 - val_accuracy: 0.8333\n",
      "Epoch 134/150\n",
      "6/6 [==============================] - 0s 4ms/step - loss: 0.0054 - accuracy: 1.0000 - val_loss: 0.8904 - val_accuracy: 0.8021\n",
      "Epoch 135/150\n",
      "6/6 [==============================] - 0s 4ms/step - loss: 0.0110 - accuracy: 0.9974 - val_loss: 0.9062 - val_accuracy: 0.8021\n",
      "Epoch 136/150\n",
      "6/6 [==============================] - 0s 4ms/step - loss: 0.0081 - accuracy: 0.9974 - val_loss: 0.8688 - val_accuracy: 0.8229\n",
      "Epoch 137/150\n",
      "6/6 [==============================] - 0s 4ms/step - loss: 0.0076 - accuracy: 0.9974 - val_loss: 0.8550 - val_accuracy: 0.8333\n",
      "Epoch 138/150\n",
      "6/6 [==============================] - 0s 4ms/step - loss: 0.0050 - accuracy: 1.0000 - val_loss: 0.8759 - val_accuracy: 0.8229\n",
      "Epoch 139/150\n",
      "6/6 [==============================] - 0s 4ms/step - loss: 0.0112 - accuracy: 0.9974 - val_loss: 0.8788 - val_accuracy: 0.8125\n",
      "Epoch 140/150\n",
      "6/6 [==============================] - 0s 4ms/step - loss: 0.0063 - accuracy: 1.0000 - val_loss: 0.8656 - val_accuracy: 0.8229\n",
      "Epoch 141/150\n",
      "6/6 [==============================] - 0s 4ms/step - loss: 0.0073 - accuracy: 0.9974 - val_loss: 0.8912 - val_accuracy: 0.8229\n",
      "Epoch 142/150\n",
      "6/6 [==============================] - 0s 4ms/step - loss: 0.0076 - accuracy: 0.9974 - val_loss: 0.9151 - val_accuracy: 0.8333\n",
      "Epoch 143/150\n",
      "6/6 [==============================] - 0s 4ms/step - loss: 0.0083 - accuracy: 0.9974 - val_loss: 0.9379 - val_accuracy: 0.8229\n",
      "Epoch 144/150\n",
      "6/6 [==============================] - 0s 4ms/step - loss: 0.0094 - accuracy: 0.9974 - val_loss: 0.9584 - val_accuracy: 0.8125\n",
      "Epoch 145/150\n",
      "6/6 [==============================] - 0s 4ms/step - loss: 0.0052 - accuracy: 1.0000 - val_loss: 0.9592 - val_accuracy: 0.8125\n",
      "Epoch 146/150\n",
      "6/6 [==============================] - 0s 4ms/step - loss: 0.0096 - accuracy: 0.9974 - val_loss: 0.9600 - val_accuracy: 0.8125\n",
      "Epoch 147/150\n",
      "6/6 [==============================] - 0s 4ms/step - loss: 0.0034 - accuracy: 1.0000 - val_loss: 0.9523 - val_accuracy: 0.8229\n",
      "Epoch 148/150\n",
      "6/6 [==============================] - 0s 4ms/step - loss: 0.0043 - accuracy: 1.0000 - val_loss: 0.9431 - val_accuracy: 0.8229\n",
      "Epoch 149/150\n",
      "6/6 [==============================] - 0s 4ms/step - loss: 0.0062 - accuracy: 1.0000 - val_loss: 0.9442 - val_accuracy: 0.8229\n",
      "Epoch 150/150\n",
      "6/6 [==============================] - 0s 4ms/step - loss: 0.0066 - accuracy: 1.0000 - val_loss: 0.9432 - val_accuracy: 0.8229\n"
     ]
    }
   ],
   "source": [
    "history = model.fit(x_train, y_train, batch_size=64, epochs=150, \n",
    "                    validation_data=(x_test, y_test))"
   ]
  },
  {
   "cell_type": "code",
   "execution_count": 17,
   "id": "bd4397ce-f8fb-4d51-9881-66ef2a05482c",
   "metadata": {},
   "outputs": [
    {
     "data": {
      "image/png": "[encoded data removed]",
      "text/plain": [
       "<Figure size 1152x576 with 1 Axes>"
      ]
     },
     "metadata": {
      "needs_background": "light"
     },
     "output_type": "display_data"
    }
   ],
   "source": [
    "import matplotlib.pyplot as plt\n",
    "\n",
    "train_accuracy = history.history['accuracy']\n",
    "val_accuracy = history.history['val_accuracy']\n",
    "# Set figure size.\n",
    "plt.figure(figsize=(16, 8))\n",
    "# Generate line plot of training, testing loss over epochs.\n",
    "plt.plot(train_accuracy, label='Training Accuracy', color='#185fad')\n",
    "plt.plot(val_accuracy, label='Validation Accuracy', color='orange')\n",
    "# Set title\n",
    "plt.title('Training and Validation Accuracy by Epoch', fontsize = 25)\n",
    "plt.xlabel('Epoch', fontsize = 18)\n",
    "plt.ylabel('Categorical Crossentropy', fontsize = 10)\n",
    "plt.xticks(range(0,200,5), range(0,200,5))\n",
    "plt.legend(fontsize = 18);"
   ]
  },
  {
   "cell_type": "code",
   "execution_count": 18,
   "id": "20d6dea4-a601-4960-bc43-cbf62cafcee0",
   "metadata": {},
   "outputs": [
    {
     "name": "stdout",
     "output_type": "stream",
     "text": [
      "              precision    recall  f1-score   support\n",
      "\n",
      "           0       0.78      0.76      0.77        38\n",
      "           1       0.80      0.80      0.80        20\n",
      "           2       0.87      0.89      0.88        38\n",
      "\n",
      "    accuracy                           0.82        96\n",
      "   macro avg       0.82      0.82      0.82        96\n",
      "weighted avg       0.82      0.82      0.82        96\n",
      "\n"
     ]
    }
   ],
   "source": [
    "from sklearn.metrics import classification_report\n",
    "y_pred = model.predict(x_test)\n",
    "y_pred_classes = y_pred.argmax(axis=-1)\n",
    "y_test_classes = y_test.argmax(axis=-1)\n",
    "print(classification_report( y_test_classes, y_pred_classes ))"
   ]
  },
  {
   "cell_type": "markdown",
   "id": "f7f531a8-aef7-43ad-a6bb-c8754bb7889d",
   "metadata": {},
   "source": [
    "### Listen to the audios and predict by model"
   ]
  },
  {
   "cell_type": "code",
   "execution_count": null,
   "id": "9749561e",
   "metadata": {},
   "outputs": [],
   "source": [
    "import speech_recognition as sr\n",
    "r = sr.Recognizer()"
   ]
  },
  {
   "cell_type": "code",
   "execution_count": 19,
   "id": "06bc716f-36ed-4a59-a062-78c7bfdb3314",
   "metadata": {},
   "outputs": [],
   "source": [
    "import sounddevice as sd\n",
    "import soundfile as sf"
   ]
  },
  {
   "cell_type": "code",
   "execution_count": 20,
   "id": "82210475-5f18-4f6c-a5c3-b4a6ff9255a4",
   "metadata": {},
   "outputs": [],
   "source": [
    "def playfile(filename):\n",
    "    data, fs = sf.read(filename, dtype='float32')  \n",
    "    sd.play(data, fs)\n",
    "    status = sd.wait()"
   ]
  },
  {
   "cell_type": "code",
   "execution_count": 22,
   "id": "bfe1962f-311b-4ed2-af93-4c8431ed5b6d",
   "metadata": {},
   "outputs": [],
   "source": [
    "playfile(\"Actor2_neutral.wav\")"
   ]
  },
  {
   "cell_type": "code",
   "execution_count": 23,
   "id": "b685fbd6-78cf-4c4e-a9f9-0ad2ca211925",
   "metadata": {},
   "outputs": [],
   "source": [
    "def predict(model,test_input):\n",
    "    y_pred = model.predict(ss.transform(np.array([extract_feature(test_input)])))\n",
    "    y_pred_class = y_pred.argmax(axis=-1)\n",
    "    return classes[y_pred_class[0]]"
   ]
  },
  {
   "cell_type": "code",
   "execution_count": 24,
   "id": "b1fe34b4-dee6-4eda-b7fa-f69bd578c79c",
   "metadata": {},
   "outputs": [
    {
     "data": {
      "text/plain": [
       "'angry'"
      ]
     },
     "execution_count": 24,
     "metadata": {},
     "output_type": "execute_result"
    }
   ],
   "source": [
    "predict(model, \"Actor2_angry.wav\")"
   ]
  }
 ],
 "metadata": {
  "kernelspec": {
   "display_name": "Python 3 (ipykernel)",
   "language": "python",
   "name": "python3"
  },
  "language_info": {
   "codemirror_mode": {
    "name": "ipython",
    "version": 3
   },
   "file_extension": ".py",
   "mimetype": "text/x-python",
   "name": "python",
   "nbconvert_exporter": "python",
   "pygments_lexer": "ipython3",
   "version": "3.9.6"
  },
  "toc-autonumbering": true,
  "toc-showcode": false,
  "toc-showmarkdowntxt": true,
  "toc-showtags": false
 },
 "nbformat": 4,
 "nbformat_minor": 5
}
